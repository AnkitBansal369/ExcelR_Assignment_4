{
 "cells": [
  {
   "cell_type": "markdown",
   "id": "11bb9c40",
   "metadata": {},
   "source": [
    "Importing Important Libraries"
   ]
  },
  {
   "cell_type": "code",
   "execution_count": 24,
   "id": "990a605f",
   "metadata": {},
   "outputs": [],
   "source": [
    "import numpy as np\n",
    "import pandas as pd\n",
    "import seaborn as sns\n",
    "import warnings\n",
    "warnings.filterwarnings(\"ignore\")\n",
    "from sklearn.model_selection import train_test_split\n",
    "from sklearn.linear_model import LinearRegression\n",
    "from sklearn import metrics"
   ]
  },
  {
   "cell_type": "markdown",
   "id": "4af56764",
   "metadata": {},
   "source": [
    "Loading the dataset"
   ]
  },
  {
   "cell_type": "code",
   "execution_count": 2,
   "id": "91db4902",
   "metadata": {},
   "outputs": [
    {
     "data": {
      "text/html": [
       "<div>\n",
       "<style scoped>\n",
       "    .dataframe tbody tr th:only-of-type {\n",
       "        vertical-align: middle;\n",
       "    }\n",
       "\n",
       "    .dataframe tbody tr th {\n",
       "        vertical-align: top;\n",
       "    }\n",
       "\n",
       "    .dataframe thead th {\n",
       "        text-align: right;\n",
       "    }\n",
       "</style>\n",
       "<table border=\"1\" class=\"dataframe\">\n",
       "  <thead>\n",
       "    <tr style=\"text-align: right;\">\n",
       "      <th></th>\n",
       "      <th>Delivery Time</th>\n",
       "      <th>Sorting Time</th>\n",
       "    </tr>\n",
       "  </thead>\n",
       "  <tbody>\n",
       "    <tr>\n",
       "      <th>0</th>\n",
       "      <td>21.0</td>\n",
       "      <td>10</td>\n",
       "    </tr>\n",
       "    <tr>\n",
       "      <th>1</th>\n",
       "      <td>13.5</td>\n",
       "      <td>4</td>\n",
       "    </tr>\n",
       "  </tbody>\n",
       "</table>\n",
       "</div>"
      ],
      "text/plain": [
       "   Delivery Time  Sorting Time\n",
       "0           21.0            10\n",
       "1           13.5             4"
      ]
     },
     "execution_count": 2,
     "metadata": {},
     "output_type": "execute_result"
    }
   ],
   "source": [
    "df = pd.read_csv(\"delivery_time.csv\")\n",
    "df.head(2)"
   ]
  },
  {
   "cell_type": "markdown",
   "id": "b362dd9d",
   "metadata": {},
   "source": [
    "# Question - Predict delivery time using sorting time?"
   ]
  },
  {
   "cell_type": "markdown",
   "id": "031c7a0f",
   "metadata": {},
   "source": [
    "Pre Processing Technique"
   ]
  },
  {
   "cell_type": "code",
   "execution_count": 3,
   "id": "f0d3f99f",
   "metadata": {},
   "outputs": [
    {
     "data": {
      "text/plain": [
       "(21, 2)"
      ]
     },
     "execution_count": 3,
     "metadata": {},
     "output_type": "execute_result"
    }
   ],
   "source": [
    "#Shape of the data \n",
    "df.shape"
   ]
  },
  {
   "cell_type": "code",
   "execution_count": 4,
   "id": "1d09df14",
   "metadata": {},
   "outputs": [
    {
     "name": "stdout",
     "output_type": "stream",
     "text": [
      "<class 'pandas.core.frame.DataFrame'>\n",
      "RangeIndex: 21 entries, 0 to 20\n",
      "Data columns (total 2 columns):\n",
      " #   Column         Non-Null Count  Dtype  \n",
      "---  ------         --------------  -----  \n",
      " 0   Delivery Time  21 non-null     float64\n",
      " 1   Sorting Time   21 non-null     int64  \n",
      "dtypes: float64(1), int64(1)\n",
      "memory usage: 464.0 bytes\n"
     ]
    }
   ],
   "source": [
    "# Getting the data type information about the columns\n",
    "df.info()"
   ]
  },
  {
   "cell_type": "markdown",
   "id": "b012e86b",
   "metadata": {},
   "source": [
    "Handling the missing Values"
   ]
  },
  {
   "cell_type": "code",
   "execution_count": 5,
   "id": "ce5e6944",
   "metadata": {},
   "outputs": [
    {
     "data": {
      "text/plain": [
       "Delivery Time    0\n",
       "Sorting Time     0\n",
       "dtype: int64"
      ]
     },
     "execution_count": 5,
     "metadata": {},
     "output_type": "execute_result"
    }
   ],
   "source": [
    "df.isna().sum()"
   ]
  },
  {
   "cell_type": "markdown",
   "id": "f46ac6da",
   "metadata": {},
   "source": [
    "There are no missing values and data types are correct."
   ]
  },
  {
   "cell_type": "markdown",
   "id": "804460a6",
   "metadata": {},
   "source": [
    "Finding the Coorelation."
   ]
  },
  {
   "cell_type": "code",
   "execution_count": 6,
   "id": "3372e6f2",
   "metadata": {},
   "outputs": [
    {
     "data": {
      "text/html": [
       "<div>\n",
       "<style scoped>\n",
       "    .dataframe tbody tr th:only-of-type {\n",
       "        vertical-align: middle;\n",
       "    }\n",
       "\n",
       "    .dataframe tbody tr th {\n",
       "        vertical-align: top;\n",
       "    }\n",
       "\n",
       "    .dataframe thead th {\n",
       "        text-align: right;\n",
       "    }\n",
       "</style>\n",
       "<table border=\"1\" class=\"dataframe\">\n",
       "  <thead>\n",
       "    <tr style=\"text-align: right;\">\n",
       "      <th></th>\n",
       "      <th>Delivery Time</th>\n",
       "      <th>Sorting Time</th>\n",
       "    </tr>\n",
       "  </thead>\n",
       "  <tbody>\n",
       "    <tr>\n",
       "      <th>Delivery Time</th>\n",
       "      <td>1.000000</td>\n",
       "      <td>0.825997</td>\n",
       "    </tr>\n",
       "    <tr>\n",
       "      <th>Sorting Time</th>\n",
       "      <td>0.825997</td>\n",
       "      <td>1.000000</td>\n",
       "    </tr>\n",
       "  </tbody>\n",
       "</table>\n",
       "</div>"
      ],
      "text/plain": [
       "               Delivery Time  Sorting Time\n",
       "Delivery Time       1.000000      0.825997\n",
       "Sorting Time        0.825997      1.000000"
      ]
     },
     "execution_count": 6,
     "metadata": {},
     "output_type": "execute_result"
    }
   ],
   "source": [
    "df.corr()"
   ]
  },
  {
   "cell_type": "markdown",
   "id": "ca74b687",
   "metadata": {},
   "source": [
    "Data Visualization"
   ]
  },
  {
   "cell_type": "code",
   "execution_count": 7,
   "id": "6a857ebe",
   "metadata": {},
   "outputs": [
    {
     "data": {
      "text/plain": [
       "<AxesSubplot:xlabel='Sorting Time', ylabel='Delivery Time'>"
      ]
     },
     "execution_count": 7,
     "metadata": {},
     "output_type": "execute_result"
    },
    {
     "data": {
      "image/png": "[encoded data removed]",
      "text/plain": [
       "<Figure size 432x288 with 1 Axes>"
      ]
     },
     "metadata": {
      "needs_background": "light"
     },
     "output_type": "display_data"
    }
   ],
   "source": [
    "sns.regplot(x=df['Sorting Time'],y=df['Delivery Time'])"
   ]
  },
  {
   "cell_type": "markdown",
   "id": "9bf721f6",
   "metadata": {},
   "source": [
    "By seeing above, we can conclude that the Sorting_time is having best relationsip with the Delivery Time."
   ]
  },
  {
   "cell_type": "code",
   "execution_count": 8,
   "id": "2c9fc53c",
   "metadata": {},
   "outputs": [
    {
     "data": {
      "text/plain": [
       "<AxesSubplot:xlabel='Delivery Time', ylabel='Density'>"
      ]
     },
     "execution_count": 8,
     "metadata": {},
     "output_type": "execute_result"
    },
    {
     "data": {
      "image/png": "[encoded data removed]",
      "text/plain": [
       "<Figure size 432x288 with 1 Axes>"
      ]
     },
     "metadata": {
      "needs_background": "light"
     },
     "output_type": "display_data"
    }
   ],
   "source": [
    "sns.distplot(df['Delivery Time'])\n"
   ]
  },
  {
   "cell_type": "code",
   "execution_count": 9,
   "id": "72bbec86",
   "metadata": {},
   "outputs": [
    {
     "data": {
      "text/plain": [
       "<AxesSubplot:xlabel='Sorting Time', ylabel='Density'>"
      ]
     },
     "execution_count": 9,
     "metadata": {},
     "output_type": "execute_result"
    },
    {
     "data": {
      "image/png": "[encoded data removed]",
      "text/plain": [
       "<Figure size 432x288 with 1 Axes>"
      ]
     },
     "metadata": {
      "needs_background": "light"
     },
     "output_type": "display_data"
    }
   ],
   "source": [
    "sns.distplot(df['Sorting Time'])\n"
   ]
  },
  {
   "cell_type": "code",
   "execution_count": 10,
   "id": "2a631e9a",
   "metadata": {},
   "outputs": [
    {
     "data": {
      "text/plain": [
       "<seaborn.axisgrid.PairGrid at 0x1b5de361100>"
      ]
     },
     "execution_count": 10,
     "metadata": {},
     "output_type": "execute_result"
    },
    {
     "data": {
      "image/png": "[encoded data removed]",
      "text/plain": [
       "<Figure size 360x360 with 6 Axes>"
      ]
     },
     "metadata": {
      "needs_background": "light"
     },
     "output_type": "display_data"
    }
   ],
   "source": [
    "sns.pairplot(df)"
   ]
  },
  {
   "cell_type": "markdown",
   "id": "2edbb15b",
   "metadata": {},
   "source": [
    "Machine Learning"
   ]
  },
  {
   "cell_type": "code",
   "execution_count": 11,
   "id": "7fc4c38d",
   "metadata": {},
   "outputs": [],
   "source": [
    "X = df[[\"Sorting Time\"]]\n",
    "Y = df[[\"Delivery Time\"]] "
   ]
  },
  {
   "cell_type": "markdown",
   "id": "1414a0c7",
   "metadata": {},
   "source": [
    "## Dividing data into Training and Testing Set."
   ]
  },
  {
   "cell_type": "code",
   "execution_count": 12,
   "id": "f4b86e76",
   "metadata": {},
   "outputs": [],
   "source": [
    "from sklearn.model_selection import train_test_split"
   ]
  },
  {
   "cell_type": "code",
   "execution_count": 13,
   "id": "1ae72d01",
   "metadata": {},
   "outputs": [],
   "source": [
    "x_train, x_test, y_train, y_test = train_test_split(X, Y, test_size=0.2, random_state=42)"
   ]
  },
  {
   "cell_type": "markdown",
   "id": "3355e8ac",
   "metadata": {},
   "source": [
    "# Simple Regression Model"
   ]
  },
  {
   "cell_type": "code",
   "execution_count": 14,
   "id": "4c8f2815",
   "metadata": {},
   "outputs": [],
   "source": [
    "from sklearn.linear_model import LinearRegression"
   ]
  },
  {
   "cell_type": "code",
   "execution_count": 15,
   "id": "b194ad42",
   "metadata": {},
   "outputs": [],
   "source": [
    "model = LinearRegression()"
   ]
  },
  {
   "cell_type": "markdown",
   "id": "f5520db8",
   "metadata": {},
   "source": [
    "Now training the above model with training set data."
   ]
  },
  {
   "cell_type": "code",
   "execution_count": 16,
   "id": "d8652269",
   "metadata": {},
   "outputs": [
    {
     "data": {
      "text/plain": [
       "LinearRegression()"
      ]
     },
     "execution_count": 16,
     "metadata": {},
     "output_type": "execute_result"
    }
   ],
   "source": [
    "model.fit(x_train,y_train)"
   ]
  },
  {
   "cell_type": "markdown",
   "id": "fe263cc9",
   "metadata": {},
   "source": [
    "# Predict the training set."
   ]
  },
  {
   "cell_type": "code",
   "execution_count": 17,
   "id": "1c6ba138",
   "metadata": {},
   "outputs": [],
   "source": [
    "y_pred = model.predict(x_test)"
   ]
  },
  {
   "cell_type": "code",
   "execution_count": 18,
   "id": "bc31bd10",
   "metadata": {},
   "outputs": [
    {
     "data": {
      "text/plain": [
       "[24.924743499648628,\n",
       " 18.852009838369643,\n",
       " 12.779276177090656,\n",
       " 12.779276177090656,\n",
       " 24.924743499648628]"
      ]
     },
     "execution_count": 18,
     "metadata": {},
     "output_type": "execute_result"
    }
   ],
   "source": [
    "y_pred = [val[0] for val in y_pred]\n",
    "y_pred"
   ]
  },
  {
   "cell_type": "markdown",
   "id": "53825923",
   "metadata": {},
   "source": [
    "## Compare The Training Set Answers With Predicted Answer"
   ]
  },
  {
   "cell_type": "code",
   "execution_count": 19,
   "id": "9a58975f",
   "metadata": {},
   "outputs": [
    {
     "data": {
      "text/html": [
       "<div>\n",
       "<style scoped>\n",
       "    .dataframe tbody tr th:only-of-type {\n",
       "        vertical-align: middle;\n",
       "    }\n",
       "\n",
       "    .dataframe tbody tr th {\n",
       "        vertical-align: top;\n",
       "    }\n",
       "\n",
       "    .dataframe thead th {\n",
       "        text-align: right;\n",
       "    }\n",
       "</style>\n",
       "<table border=\"1\" class=\"dataframe\">\n",
       "  <thead>\n",
       "    <tr style=\"text-align: right;\">\n",
       "      <th></th>\n",
       "      <th>Actual Answer</th>\n",
       "      <th>Predicted Answer</th>\n",
       "    </tr>\n",
       "  </thead>\n",
       "  <tbody>\n",
       "    <tr>\n",
       "      <th>0</th>\n",
       "      <td>21.00</td>\n",
       "      <td>24.924743</td>\n",
       "    </tr>\n",
       "    <tr>\n",
       "      <th>1</th>\n",
       "      <td>18.11</td>\n",
       "      <td>18.852010</td>\n",
       "    </tr>\n",
       "    <tr>\n",
       "      <th>2</th>\n",
       "      <td>14.88</td>\n",
       "      <td>12.779276</td>\n",
       "    </tr>\n",
       "    <tr>\n",
       "      <th>3</th>\n",
       "      <td>13.50</td>\n",
       "      <td>12.779276</td>\n",
       "    </tr>\n",
       "    <tr>\n",
       "      <th>4</th>\n",
       "      <td>17.90</td>\n",
       "      <td>24.924743</td>\n",
       "    </tr>\n",
       "  </tbody>\n",
       "</table>\n",
       "</div>"
      ],
      "text/plain": [
       "   Actual Answer  Predicted Answer\n",
       "0          21.00         24.924743\n",
       "1          18.11         18.852010\n",
       "2          14.88         12.779276\n",
       "3          13.50         12.779276\n",
       "4          17.90         24.924743"
      ]
     },
     "execution_count": 19,
     "metadata": {},
     "output_type": "execute_result"
    }
   ],
   "source": [
    "df_pred = pd.DataFrame({'Actual Answer': y_test[\"Delivery Time\"].values, \"Predicted Answer\":y_pred})\n",
    "df_pred"
   ]
  },
  {
   "cell_type": "markdown",
   "id": "854f2964",
   "metadata": {},
   "source": [
    "## Finding The Errors and Efficency of our Model"
   ]
  },
  {
   "cell_type": "code",
   "execution_count": 25,
   "id": "f338e87b",
   "metadata": {},
   "outputs": [
    {
     "name": "stdout",
     "output_type": "stream",
     "text": [
      "Mean Absolute Error: 2.9025888966971176\n",
      "Mean Squared Error: 14.046738956635016\n",
      "Root Mean Squared Error: 3.7478979383962705\n",
      "R^2 Score :           -1.0207599586367362\n"
     ]
    }
   ],
   "source": [
    "print('Mean Absolute Error:', metrics.mean_absolute_error(y_test, y_pred))  \n",
    "print('Mean Squared Error:', metrics.mean_squared_error(y_test, y_pred))  \n",
    "print('Root Mean Squared Error:', np.sqrt(metrics.mean_squared_error(y_test, y_pred)))\n",
    "print(\"R^2 Score :          \", metrics.r2_score(y_test, y_pred))"
   ]
  },
  {
   "cell_type": "markdown",
   "id": "78425ec4",
   "metadata": {},
   "source": [
    "## Logrithm Transformation"
   ]
  },
  {
   "cell_type": "markdown",
   "id": "d8bedf1e",
   "metadata": {},
   "source": [
    "y= a+ b* log(x)"
   ]
  },
  {
   "cell_type": "code",
   "execution_count": 26,
   "id": "0e839ddb",
   "metadata": {},
   "outputs": [],
   "source": [
    "#Input Dataset or Predictor\n",
    "\n",
    "X_log = np.log(df[\"Sorting Time\"].values.reshape(-1,1))\n",
    "\n",
    "#Output Dataset or Target \n",
    "\n",
    "Y_log = df[\"Delivery Time\"].values.reshape(-1,1)"
   ]
  },
  {
   "cell_type": "code",
   "execution_count": 27,
   "id": "80d48c17",
   "metadata": {},
   "outputs": [],
   "source": [
    "X_train_log, X_test_log, Y_train_log, Y_test_log = train_test_split(X_log, Y_log, test_size=0.2, random_state=42)"
   ]
  },
  {
   "cell_type": "code",
   "execution_count": 28,
   "id": "89fc171e",
   "metadata": {},
   "outputs": [
    {
     "data": {
      "text/plain": [
       "LinearRegression()"
      ]
     },
     "execution_count": 28,
     "metadata": {},
     "output_type": "execute_result"
    }
   ],
   "source": [
    "y_pred_log = LinearRegression()\n",
    "y_pred_log.fit(X_train_log, Y_train_log)"
   ]
  },
  {
   "cell_type": "code",
   "execution_count": 31,
   "id": "7a10f931",
   "metadata": {},
   "outputs": [],
   "source": [
    "Y_pred_log = y_pred_log.predict(X_test_log)\n",
    "Y_pred_log = [val[0] for val in Y_pred_log]"
   ]
  },
  {
   "cell_type": "code",
   "execution_count": 33,
   "id": "7b22d82c",
   "metadata": {},
   "outputs": [
    {
     "data": {
      "text/html": [
       "<div>\n",
       "<style scoped>\n",
       "    .dataframe tbody tr th:only-of-type {\n",
       "        vertical-align: middle;\n",
       "    }\n",
       "\n",
       "    .dataframe tbody tr th {\n",
       "        vertical-align: top;\n",
       "    }\n",
       "\n",
       "    .dataframe thead th {\n",
       "        text-align: right;\n",
       "    }\n",
       "</style>\n",
       "<table border=\"1\" class=\"dataframe\">\n",
       "  <thead>\n",
       "    <tr style=\"text-align: right;\">\n",
       "      <th></th>\n",
       "      <th>Actual</th>\n",
       "      <th>Predict</th>\n",
       "    </tr>\n",
       "  </thead>\n",
       "  <tbody>\n",
       "    <tr>\n",
       "      <th>0</th>\n",
       "      <td>21.00</td>\n",
       "      <td>22.927130</td>\n",
       "    </tr>\n",
       "    <tr>\n",
       "      <th>1</th>\n",
       "      <td>18.11</td>\n",
       "      <td>19.326312</td>\n",
       "    </tr>\n",
       "    <tr>\n",
       "      <th>2</th>\n",
       "      <td>14.88</td>\n",
       "      <td>13.676702</td>\n",
       "    </tr>\n",
       "    <tr>\n",
       "      <th>3</th>\n",
       "      <td>13.50</td>\n",
       "      <td>13.676702</td>\n",
       "    </tr>\n",
       "    <tr>\n",
       "      <th>4</th>\n",
       "      <td>17.90</td>\n",
       "      <td>22.927130</td>\n",
       "    </tr>\n",
       "  </tbody>\n",
       "</table>\n",
       "</div>"
      ],
      "text/plain": [
       "   Actual    Predict\n",
       "0   21.00  22.927130\n",
       "1   18.11  19.326312\n",
       "2   14.88  13.676702\n",
       "3   13.50  13.676702\n",
       "4   17.90  22.927130"
      ]
     },
     "execution_count": 33,
     "metadata": {},
     "output_type": "execute_result"
    }
   ],
   "source": [
    "df1_pred = pd.DataFrame({\"Actual\": Y_test_log.flatten(), \"Predict\" : Y_pred_log})\n",
    "df1_pred"
   ]
  },
  {
   "cell_type": "code",
   "execution_count": 34,
   "id": "94455922",
   "metadata": {},
   "outputs": [
    {
     "name": "stdout",
     "output_type": "stream",
     "text": [
      "Mean Absolute Error: 1.910114526185978\n",
      "Mean Squared Error: 6.388886730349971\n",
      "Root Mean Squared Error: 2.5276247210276233\n",
      "R^2 Score :           0.08089653229737481\n"
     ]
    }
   ],
   "source": [
    "print('Mean Absolute Error:', metrics.mean_absolute_error(Y_test_log, Y_pred_log))  \n",
    "print('Mean Squared Error:', metrics.mean_squared_error(Y_test_log, Y_pred_log) ) \n",
    "print('Root Mean Squared Error:', np.sqrt(metrics.mean_squared_error(Y_test_log, Y_pred_log)))\n",
    "print(\"R^2 Score :          \", metrics.r2_score(Y_test_log, Y_pred_log))"
   ]
  },
  {
   "cell_type": "markdown",
   "id": "b95cb305",
   "metadata": {},
   "source": [
    "## Exponential Transformation Model"
   ]
  },
  {
   "cell_type": "markdown",
   "id": "139beb6e",
   "metadata": {},
   "source": [
    "log(Y) =α + βX + ε"
   ]
  },
  {
   "cell_type": "code",
   "execution_count": 35,
   "id": "ec59862d",
   "metadata": {},
   "outputs": [],
   "source": [
    "#Input Dataset or Predictor\n",
    "\n",
    "X_e_log = df[\"Sorting Time\"].values.reshape(-1,1)\n",
    "\n",
    "#Output Dataset or Target \n",
    "\n",
    "Y_e_log = np.log(df[\"Delivery Time\"].values.reshape(-1,1))"
   ]
  },
  {
   "cell_type": "code",
   "execution_count": 36,
   "id": "a1c8b768",
   "metadata": {},
   "outputs": [],
   "source": [
    "X_train_exp, X_test_exp, Y_train_exp, Y_test_exp = train_test_split(X_e_log, Y_e_log, test_size=0.2, random_state= 42)"
   ]
  },
  {
   "cell_type": "code",
   "execution_count": 37,
   "id": "6e899b85",
   "metadata": {},
   "outputs": [
    {
     "data": {
      "text/plain": [
       "LinearRegression()"
      ]
     },
     "execution_count": 37,
     "metadata": {},
     "output_type": "execute_result"
    }
   ],
   "source": [
    "y_pred_e_log = LinearRegression()\n",
    "y_pred_e_log.fit(X_train_exp, Y_train_exp)"
   ]
  },
  {
   "cell_type": "code",
   "execution_count": 38,
   "id": "29fcea88",
   "metadata": {},
   "outputs": [],
   "source": [
    "Y_pred_e_log = y_pred_e_log.predict(X_test_log)\n",
    "Y_pred_e_log = [val[0] for val in Y_pred_e_log]"
   ]
  },
  {
   "cell_type": "code",
   "execution_count": 39,
   "id": "10176771",
   "metadata": {},
   "outputs": [
    {
     "data": {
      "text/html": [
       "<div>\n",
       "<style scoped>\n",
       "    .dataframe tbody tr th:only-of-type {\n",
       "        vertical-align: middle;\n",
       "    }\n",
       "\n",
       "    .dataframe tbody tr th {\n",
       "        vertical-align: top;\n",
       "    }\n",
       "\n",
       "    .dataframe thead th {\n",
       "        text-align: right;\n",
       "    }\n",
       "</style>\n",
       "<table border=\"1\" class=\"dataframe\">\n",
       "  <thead>\n",
       "    <tr style=\"text-align: right;\">\n",
       "      <th></th>\n",
       "      <th>Actual</th>\n",
       "      <th>Predict</th>\n",
       "    </tr>\n",
       "  </thead>\n",
       "  <tbody>\n",
       "    <tr>\n",
       "      <th>0</th>\n",
       "      <td>21.00</td>\n",
       "      <td>2.289235</td>\n",
       "    </tr>\n",
       "    <tr>\n",
       "      <th>1</th>\n",
       "      <td>18.11</td>\n",
       "      <td>2.243152</td>\n",
       "    </tr>\n",
       "    <tr>\n",
       "      <th>2</th>\n",
       "      <td>14.88</td>\n",
       "      <td>2.170848</td>\n",
       "    </tr>\n",
       "    <tr>\n",
       "      <th>3</th>\n",
       "      <td>13.50</td>\n",
       "      <td>2.170848</td>\n",
       "    </tr>\n",
       "    <tr>\n",
       "      <th>4</th>\n",
       "      <td>17.90</td>\n",
       "      <td>2.289235</td>\n",
       "    </tr>\n",
       "  </tbody>\n",
       "</table>\n",
       "</div>"
      ],
      "text/plain": [
       "   Actual   Predict\n",
       "0   21.00  2.289235\n",
       "1   18.11  2.243152\n",
       "2   14.88  2.170848\n",
       "3   13.50  2.170848\n",
       "4   17.90  2.289235"
      ]
     },
     "execution_count": 39,
     "metadata": {},
     "output_type": "execute_result"
    }
   ],
   "source": [
    "df1_pred = pd.DataFrame({\"Actual\": Y_test_log.flatten(), \"Predict\" : Y_pred_e_log})\n",
    "df1_pred"
   ]
  },
  {
   "cell_type": "code",
   "execution_count": 40,
   "id": "c48ae41a",
   "metadata": {},
   "outputs": [
    {
     "name": "stdout",
     "output_type": "stream",
     "text": [
      "Mean Absolute Error: 14.845336191195738\n",
      "Mean Squared Error: 227.0835545089646\n",
      "Root Mean Squared Error: 15.069291771976697\n",
      "R^2 Score :           -31.668176979245736\n"
     ]
    }
   ],
   "source": [
    "print('Mean Absolute Error:', metrics.mean_absolute_error(Y_test_log, Y_pred_e_log))  \n",
    "print('Mean Squared Error:', metrics.mean_squared_error(Y_test_log, Y_pred_e_log) ) \n",
    "print('Root Mean Squared Error:', np.sqrt(metrics.mean_squared_error(Y_test_log, Y_pred_e_log)))\n",
    "print(\"R^2 Score :          \", metrics.r2_score(Y_test_log, Y_pred_e_log))"
   ]
  },
  {
   "cell_type": "markdown",
   "id": "2d010f41",
   "metadata": {},
   "source": [
    "# Quadratic Transformation Model"
   ]
  },
  {
   "cell_type": "code",
   "execution_count": 43,
   "id": "1407cac1",
   "metadata": {},
   "outputs": [
    {
     "data": {
      "text/html": [
       "<div>\n",
       "<style scoped>\n",
       "    .dataframe tbody tr th:only-of-type {\n",
       "        vertical-align: middle;\n",
       "    }\n",
       "\n",
       "    .dataframe tbody tr th {\n",
       "        vertical-align: top;\n",
       "    }\n",
       "\n",
       "    .dataframe thead th {\n",
       "        text-align: right;\n",
       "    }\n",
       "</style>\n",
       "<table border=\"1\" class=\"dataframe\">\n",
       "  <thead>\n",
       "    <tr style=\"text-align: right;\">\n",
       "      <th></th>\n",
       "      <th>Delivery Time</th>\n",
       "      <th>Sorting Time</th>\n",
       "      <th>Sqr_Sorting_time</th>\n",
       "    </tr>\n",
       "  </thead>\n",
       "  <tbody>\n",
       "    <tr>\n",
       "      <th>0</th>\n",
       "      <td>21.00</td>\n",
       "      <td>10</td>\n",
       "      <td>100.0</td>\n",
       "    </tr>\n",
       "    <tr>\n",
       "      <th>1</th>\n",
       "      <td>13.50</td>\n",
       "      <td>4</td>\n",
       "      <td>16.0</td>\n",
       "    </tr>\n",
       "    <tr>\n",
       "      <th>2</th>\n",
       "      <td>19.75</td>\n",
       "      <td>6</td>\n",
       "      <td>36.0</td>\n",
       "    </tr>\n",
       "    <tr>\n",
       "      <th>3</th>\n",
       "      <td>24.00</td>\n",
       "      <td>9</td>\n",
       "      <td>81.0</td>\n",
       "    </tr>\n",
       "    <tr>\n",
       "      <th>4</th>\n",
       "      <td>29.00</td>\n",
       "      <td>10</td>\n",
       "      <td>100.0</td>\n",
       "    </tr>\n",
       "    <tr>\n",
       "      <th>5</th>\n",
       "      <td>15.35</td>\n",
       "      <td>6</td>\n",
       "      <td>36.0</td>\n",
       "    </tr>\n",
       "    <tr>\n",
       "      <th>6</th>\n",
       "      <td>19.00</td>\n",
       "      <td>7</td>\n",
       "      <td>49.0</td>\n",
       "    </tr>\n",
       "    <tr>\n",
       "      <th>7</th>\n",
       "      <td>9.50</td>\n",
       "      <td>3</td>\n",
       "      <td>9.0</td>\n",
       "    </tr>\n",
       "    <tr>\n",
       "      <th>8</th>\n",
       "      <td>17.90</td>\n",
       "      <td>10</td>\n",
       "      <td>100.0</td>\n",
       "    </tr>\n",
       "    <tr>\n",
       "      <th>9</th>\n",
       "      <td>18.75</td>\n",
       "      <td>9</td>\n",
       "      <td>81.0</td>\n",
       "    </tr>\n",
       "    <tr>\n",
       "      <th>10</th>\n",
       "      <td>19.83</td>\n",
       "      <td>8</td>\n",
       "      <td>64.0</td>\n",
       "    </tr>\n",
       "    <tr>\n",
       "      <th>11</th>\n",
       "      <td>10.75</td>\n",
       "      <td>4</td>\n",
       "      <td>16.0</td>\n",
       "    </tr>\n",
       "    <tr>\n",
       "      <th>12</th>\n",
       "      <td>16.68</td>\n",
       "      <td>7</td>\n",
       "      <td>49.0</td>\n",
       "    </tr>\n",
       "    <tr>\n",
       "      <th>13</th>\n",
       "      <td>11.50</td>\n",
       "      <td>3</td>\n",
       "      <td>9.0</td>\n",
       "    </tr>\n",
       "    <tr>\n",
       "      <th>14</th>\n",
       "      <td>12.03</td>\n",
       "      <td>3</td>\n",
       "      <td>9.0</td>\n",
       "    </tr>\n",
       "    <tr>\n",
       "      <th>15</th>\n",
       "      <td>14.88</td>\n",
       "      <td>4</td>\n",
       "      <td>16.0</td>\n",
       "    </tr>\n",
       "    <tr>\n",
       "      <th>16</th>\n",
       "      <td>13.75</td>\n",
       "      <td>6</td>\n",
       "      <td>36.0</td>\n",
       "    </tr>\n",
       "    <tr>\n",
       "      <th>17</th>\n",
       "      <td>18.11</td>\n",
       "      <td>7</td>\n",
       "      <td>49.0</td>\n",
       "    </tr>\n",
       "    <tr>\n",
       "      <th>18</th>\n",
       "      <td>8.00</td>\n",
       "      <td>2</td>\n",
       "      <td>4.0</td>\n",
       "    </tr>\n",
       "    <tr>\n",
       "      <th>19</th>\n",
       "      <td>17.83</td>\n",
       "      <td>7</td>\n",
       "      <td>49.0</td>\n",
       "    </tr>\n",
       "    <tr>\n",
       "      <th>20</th>\n",
       "      <td>21.50</td>\n",
       "      <td>5</td>\n",
       "      <td>25.0</td>\n",
       "    </tr>\n",
       "  </tbody>\n",
       "</table>\n",
       "</div>"
      ],
      "text/plain": [
       "    Delivery Time  Sorting Time  Sqr_Sorting_time\n",
       "0           21.00            10             100.0\n",
       "1           13.50             4              16.0\n",
       "2           19.75             6              36.0\n",
       "3           24.00             9              81.0\n",
       "4           29.00            10             100.0\n",
       "5           15.35             6              36.0\n",
       "6           19.00             7              49.0\n",
       "7            9.50             3               9.0\n",
       "8           17.90            10             100.0\n",
       "9           18.75             9              81.0\n",
       "10          19.83             8              64.0\n",
       "11          10.75             4              16.0\n",
       "12          16.68             7              49.0\n",
       "13          11.50             3               9.0\n",
       "14          12.03             3               9.0\n",
       "15          14.88             4              16.0\n",
       "16          13.75             6              36.0\n",
       "17          18.11             7              49.0\n",
       "18           8.00             2               4.0\n",
       "19          17.83             7              49.0\n",
       "20          21.50             5              25.0"
      ]
     },
     "execution_count": 43,
     "metadata": {},
     "output_type": "execute_result"
    }
   ],
   "source": [
    "df[\"Sqr_Sorting_time\"] = df.apply(lambda row : row[\"Sorting Time\"]**2, axis = 1)\n",
    "df"
   ]
  },
  {
   "cell_type": "code",
   "execution_count": 44,
   "id": "27f2368a",
   "metadata": {},
   "outputs": [
    {
     "name": "stdout",
     "output_type": "stream",
     "text": [
      "0     10\n",
      "17     7\n",
      "15     4\n",
      "1      4\n",
      "8     10\n",
      "Name: Sorting Time, dtype: int64\n"
     ]
    }
   ],
   "source": [
    "X_q = df.iloc[:,df.columns != 'Sorting Time']\n",
    "Y_q = df.iloc[:,1]\n",
    "X_train, X_test, Y_train, Y_test = train_test_split(X_q, Y_q, test_size=0.2, random_state= 42)\n",
    "print(Y_test)\n"
   ]
  },
  {
   "cell_type": "code",
   "execution_count": 45,
   "id": "7a5b6ec6",
   "metadata": {},
   "outputs": [
    {
     "data": {
      "text/plain": [
       "LinearRegression()"
      ]
     },
     "execution_count": 45,
     "metadata": {},
     "output_type": "execute_result"
    }
   ],
   "source": [
    "model = Lidf_qm = pd.DataFrame({'Actual':Y_test, 'Predicted': y_pred_q})nearRegression()\n",
    "model.fit(X_train, Y_train)df_qm.head()"
   ]
  },
  {
   "cell_type": "code",
   "execution_count": 47,
   "id": "41fd0f84",
   "metadata": {},
   "outputs": [
    {
     "data": {
      "text/plain": [
       "[24.924743499648628,\n",
       " 18.852009838369643,\n",
       " 12.779276177090656,\n",
       " 12.779276177090656,\n",
       " 24.924743499648628]"
      ]
     },
     "execution_count": 47,
     "metadata": {},
     "output_type": "execute_result"
    }
   ],
   "source": [
    "y_pred_q = model.predict(X_test)\n",
    "y_pred"
   ]
  },
  {
   "cell_type": "code",
   "execution_count": 48,
   "id": "98245ffd",
   "metadata": {},
   "outputs": [
    {
     "data": {
      "text/html": [
       "<div>\n",
       "<style scoped>\n",
       "    .dataframe tbody tr th:only-of-type {\n",
       "        vertical-align: middle;\n",
       "    }\n",
       "\n",
       "    .dataframe tbody tr th {\n",
       "        vertical-align: top;\n",
       "    }\n",
       "\n",
       "    .dataframe thead th {\n",
       "        text-align: right;\n",
       "    }\n",
       "</style>\n",
       "<table border=\"1\" class=\"dataframe\">\n",
       "  <thead>\n",
       "    <tr style=\"text-align: right;\">\n",
       "      <th></th>\n",
       "      <th>Actual</th>\n",
       "      <th>Predicted</th>\n",
       "    </tr>\n",
       "  </thead>\n",
       "  <tbody>\n",
       "    <tr>\n",
       "      <th>0</th>\n",
       "      <td>10</td>\n",
       "      <td>10.577669</td>\n",
       "    </tr>\n",
       "    <tr>\n",
       "      <th>17</th>\n",
       "      <td>7</td>\n",
       "      <td>6.609142</td>\n",
       "    </tr>\n",
       "    <tr>\n",
       "      <th>15</th>\n",
       "      <td>4</td>\n",
       "      <td>3.991555</td>\n",
       "    </tr>\n",
       "    <tr>\n",
       "      <th>1</th>\n",
       "      <td>4</td>\n",
       "      <td>3.941109</td>\n",
       "    </tr>\n",
       "    <tr>\n",
       "      <th>8</th>\n",
       "      <td>10</td>\n",
       "      <td>10.464347</td>\n",
       "    </tr>\n",
       "  </tbody>\n",
       "</table>\n",
       "</div>"
      ],
      "text/plain": [
       "    Actual  Predicted\n",
       "0       10  10.577669\n",
       "17       7   6.609142\n",
       "15       4   3.991555\n",
       "1        4   3.941109\n",
       "8       10  10.464347"
      ]
     },
     "execution_count": 48,
     "metadata": {},
     "output_type": "execute_result"
    }
   ],
   "source": [
    "df_qm = pd.DataFrame({'Actual':Y_test, 'Predicted': y_pred_q})\n",
    "df_qm.head()"
   ]
  },
  {
   "cell_type": "code",
   "execution_count": 49,
   "id": "4f16c003",
   "metadata": {},
   "outputs": [
    {
     "name": "stdout",
     "output_type": "stream",
     "text": [
      "Mean Absolute Error: 0.30004207123528503\n",
      "Mean Squared Error: 0.14112588204302062\n",
      "Root Mean Squared Error: 0.3756672490955535\n",
      "R^2 Score :           0.9803991830495805\n"
     ]
    }
   ],
   "source": [
    "print('Mean Absolute Error:', metrics.mean_absolute_error(Y_test, y_pred_q))  \n",
    "print('Mean Squared Error:', metrics.mean_squared_error(Y_test, y_pred_q) ) \n",
    "print('Root Mean Squared Error:', np.sqrt(metrics.mean_squared_error(Y_test, y_pred_q)))\n",
    "print(\"R^2 Score :          \", metrics.r2_score(Y_test, y_pred_q))"
   ]
  },
  {
   "cell_type": "markdown",
   "id": "06cba80b",
   "metadata": {},
   "source": [
    "# Conclusion"
   ]
  },
  {
   "cell_type": "markdown",
   "id": "42bbfb62",
   "metadata": {},
   "source": [
    "We have found that while transform the model, got various values for MAE, RMSE, MSE and R2 Values. Summery of the following Models"
   ]
  },
  {
   "cell_type": "raw",
   "id": "7df02a2a",
   "metadata": {},
   "source": [
    "1) Simple linear Regression Model\n",
    "\n",
    "print('Mean Absolute Error:', metrics.mean_absolute_error(y_test, y_pred))  \n",
    "print('Mean Squared Error:', metrics.mean_squared_error(y_test, y_pred))  \n",
    "print('Root Mean Squared Error:', np.sqrt(metrics.mean_squared_error(y_test, y_pred)))\n",
    "print(\"R^2 Score :          \", metrics.r2_score(y_test, y_pred))\n",
    "\n",
    "2) Logrithm Transformation Model\n",
    "\n",
    "print('Mean Absolute Error:', metrics.mean_absolute_error(Y_test_log, Y_pred_log))  \n",
    "print('Mean Squared Error:', metrics.mean_squared_error(Y_test_log, Y_pred_log) ) \n",
    "print('Root Mean Squared Error:', np.sqrt(metrics.mean_squared_error(Y_test_log, Y_pred_log)))\n",
    "print(\"R^2 Score :          \", metrics.r2_score(Y_test_log, Y_pred_log))\n",
    "\n",
    "    \n",
    "3) Exponential Transformation Model\n",
    "\n",
    "Mean Absolute Error: 14.845336191195738\n",
    "Mean Squared Error: 227.0835545089646\n",
    "Root Mean Squared Error: 15.069291771976697\n",
    "R^2 Score :           -31.668176979245736\n",
    "    \n",
    "4) Quadratic Transformation Model\n",
    "\n",
    "\n",
    "Mean Absolute Error: 0.30004207123528503\n",
    "Mean Squared Error: 0.14112588204302062\n",
    "Root Mean Squared Error: 0.3756672490955535\n",
    "R^2 Score :           0.9803991830495805\n",
    "\n"
   ]
  },
  {
   "cell_type": "code",
   "execution_count": null,
   "id": "c7fa1c02",
   "metadata": {},
   "outputs": [],
   "source": []
  }
 ],
 "metadata": {
  "kernelspec": {
   "display_name": "Python 3",
   "language": "python",
   "name": "python3"
  },
  "language_info": {
   "codemirror_mode": {
    "name": "ipython",
    "version": 3
   },
   "file_extension": ".py",
   "mimetype": "text/x-python",
   "name": "python",
   "nbconvert_exporter": "python",
   "pygments_lexer": "ipython3",
   "version": "3.8.8"
  }
 },
 "nbformat": 4,
 "nbformat_minor": 5
}
