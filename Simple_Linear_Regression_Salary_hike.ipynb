{
 "cells": [
  {
   "cell_type": "markdown",
   "id": "cde926c8",
   "metadata": {},
   "source": [
    "Importing Important Libraries"
   ]
  },
  {
   "cell_type": "code",
   "execution_count": 1,
   "id": "8c9c3ee0",
   "metadata": {},
   "outputs": [],
   "source": [
    "import numpy as np\n",
    "import pandas as pd\n",
    "import seaborn as sns\n",
    "import warnings\n",
    "warnings.filterwarnings(\"ignore\")\n",
    "from sklearn.model_selection import train_test_split\n",
    "from sklearn.linear_model import LinearRegression\n",
    "from sklearn import metrics\n"
   ]
  },
  {
   "cell_type": "markdown",
   "id": "553c85f0",
   "metadata": {},
   "source": [
    "Loading the dataset"
   ]
  },
  {
   "cell_type": "code",
   "execution_count": 2,
   "id": "bbffd033",
   "metadata": {},
   "outputs": [
    {
     "data": {
      "text/html": [
       "<div>\n",
       "<style scoped>\n",
       "    .dataframe tbody tr th:only-of-type {\n",
       "        vertical-align: middle;\n",
       "    }\n",
       "\n",
       "    .dataframe tbody tr th {\n",
       "        vertical-align: top;\n",
       "    }\n",
       "\n",
       "    .dataframe thead th {\n",
       "        text-align: right;\n",
       "    }\n",
       "</style>\n",
       "<table border=\"1\" class=\"dataframe\">\n",
       "  <thead>\n",
       "    <tr style=\"text-align: right;\">\n",
       "      <th></th>\n",
       "      <th>YearsExperience</th>\n",
       "      <th>Salary</th>\n",
       "    </tr>\n",
       "  </thead>\n",
       "  <tbody>\n",
       "    <tr>\n",
       "      <th>0</th>\n",
       "      <td>1.1</td>\n",
       "      <td>39343.0</td>\n",
       "    </tr>\n",
       "    <tr>\n",
       "      <th>1</th>\n",
       "      <td>1.3</td>\n",
       "      <td>46205.0</td>\n",
       "    </tr>\n",
       "  </tbody>\n",
       "</table>\n",
       "</div>"
      ],
      "text/plain": [
       "   YearsExperience   Salary\n",
       "0              1.1  39343.0\n",
       "1              1.3  46205.0"
      ]
     },
     "execution_count": 2,
     "metadata": {},
     "output_type": "execute_result"
    }
   ],
   "source": [
    "df = pd.read_csv(\"Salary_Data.csv\")\n",
    "df.head(2)"
   ]
  },
  {
   "cell_type": "markdown",
   "id": "6c972a9e",
   "metadata": {},
   "source": [
    "## Question -  Build a prediction model for Salary_hike"
   ]
  },
  {
   "cell_type": "markdown",
   "id": "08a01c13",
   "metadata": {},
   "source": [
    "Pre Processing Technique"
   ]
  },
  {
   "cell_type": "code",
   "execution_count": 3,
   "id": "c364924e",
   "metadata": {},
   "outputs": [
    {
     "data": {
      "text/plain": [
       "(30, 2)"
      ]
     },
     "execution_count": 3,
     "metadata": {},
     "output_type": "execute_result"
    }
   ],
   "source": [
    "#Shape of the data \n",
    "df.shape"
   ]
  },
  {
   "cell_type": "code",
   "execution_count": 4,
   "id": "cd8a5168",
   "metadata": {},
   "outputs": [
    {
     "name": "stdout",
     "output_type": "stream",
     "text": [
      "<class 'pandas.core.frame.DataFrame'>\n",
      "RangeIndex: 30 entries, 0 to 29\n",
      "Data columns (total 2 columns):\n",
      " #   Column           Non-Null Count  Dtype  \n",
      "---  ------           --------------  -----  \n",
      " 0   YearsExperience  30 non-null     float64\n",
      " 1   Salary           30 non-null     float64\n",
      "dtypes: float64(2)\n",
      "memory usage: 608.0 bytes\n"
     ]
    }
   ],
   "source": [
    "# Getting the data type information about the columns\n",
    "df.info()"
   ]
  },
  {
   "cell_type": "markdown",
   "id": "d7e148f1",
   "metadata": {},
   "source": [
    "Handling the missing Values"
   ]
  },
  {
   "cell_type": "code",
   "execution_count": 5,
   "id": "4ea4716a",
   "metadata": {},
   "outputs": [
    {
     "data": {
      "text/plain": [
       "YearsExperience    0\n",
       "Salary             0\n",
       "dtype: int64"
      ]
     },
     "execution_count": 5,
     "metadata": {},
     "output_type": "execute_result"
    }
   ],
   "source": [
    "df.isna().sum()"
   ]
  },
  {
   "cell_type": "markdown",
   "id": "239de4ea",
   "metadata": {},
   "source": [
    "There are no missing values and data types are correct."
   ]
  },
  {
   "cell_type": "markdown",
   "id": "bc0934d1",
   "metadata": {},
   "source": [
    "Finding the Coorelation."
   ]
  },
  {
   "cell_type": "code",
   "execution_count": 6,
   "id": "e54cac67",
   "metadata": {},
   "outputs": [
    {
     "data": {
      "text/html": [
       "<div>\n",
       "<style scoped>\n",
       "    .dataframe tbody tr th:only-of-type {\n",
       "        vertical-align: middle;\n",
       "    }\n",
       "\n",
       "    .dataframe tbody tr th {\n",
       "        vertical-align: top;\n",
       "    }\n",
       "\n",
       "    .dataframe thead th {\n",
       "        text-align: right;\n",
       "    }\n",
       "</style>\n",
       "<table border=\"1\" class=\"dataframe\">\n",
       "  <thead>\n",
       "    <tr style=\"text-align: right;\">\n",
       "      <th></th>\n",
       "      <th>YearsExperience</th>\n",
       "      <th>Salary</th>\n",
       "    </tr>\n",
       "  </thead>\n",
       "  <tbody>\n",
       "    <tr>\n",
       "      <th>YearsExperience</th>\n",
       "      <td>1.000000</td>\n",
       "      <td>0.978242</td>\n",
       "    </tr>\n",
       "    <tr>\n",
       "      <th>Salary</th>\n",
       "      <td>0.978242</td>\n",
       "      <td>1.000000</td>\n",
       "    </tr>\n",
       "  </tbody>\n",
       "</table>\n",
       "</div>"
      ],
      "text/plain": [
       "                 YearsExperience    Salary\n",
       "YearsExperience         1.000000  0.978242\n",
       "Salary                  0.978242  1.000000"
      ]
     },
     "execution_count": 6,
     "metadata": {},
     "output_type": "execute_result"
    }
   ],
   "source": [
    "df.corr()"
   ]
  },
  {
   "cell_type": "markdown",
   "id": "3bc6cb58",
   "metadata": {},
   "source": [
    "Data Visualization"
   ]
  },
  {
   "cell_type": "code",
   "execution_count": 7,
   "id": "fa0259d1",
   "metadata": {},
   "outputs": [
    {
     "data": {
      "text/plain": [
       "<AxesSubplot:xlabel='YearsExperience', ylabel='Salary'>"
      ]
     },
     "execution_count": 7,
     "metadata": {},
     "output_type": "execute_result"
    },
    {
     "data": {
      "image/png": "[encoded data removed]",
      "text/plain": [
       "<Figure size 432x288 with 1 Axes>"
      ]
     },
     "metadata": {
      "needs_background": "light"
     },
     "output_type": "display_data"
    }
   ],
   "source": [
    "sns.regplot(x=df['YearsExperience'],y=df['Salary'])"
   ]
  },
  {
   "cell_type": "markdown",
   "id": "4731c183",
   "metadata": {},
   "source": [
    "By seeing above, we can conclude that the Salary is having best relationsip with the YearsExperience."
   ]
  },
  {
   "cell_type": "code",
   "execution_count": 8,
   "id": "1afe3a08",
   "metadata": {},
   "outputs": [
    {
     "data": {
      "text/plain": [
       "<AxesSubplot:xlabel='YearsExperience', ylabel='Density'>"
      ]
     },
     "execution_count": 8,
     "metadata": {},
     "output_type": "execute_result"
    },
    {
     "data": {
      "image/png": "[encoded data removed]",
      "text/plain": [
       "<Figure size 432x288 with 1 Axes>"
      ]
     },
     "metadata": {
      "needs_background": "light"
     },
     "output_type": "display_data"
    }
   ],
   "source": [
    "sns.distplot(df['YearsExperience'])\n"
   ]
  },
  {
   "cell_type": "code",
   "execution_count": 9,
   "id": "14fb2766",
   "metadata": {},
   "outputs": [
    {
     "data": {
      "text/plain": [
       "<AxesSubplot:xlabel='Salary', ylabel='Density'>"
      ]
     },
     "execution_count": 9,
     "metadata": {},
     "output_type": "execute_result"
    },
    {
     "data": {
      "image/png": "[encoded data removed]",
      "text/plain": [
       "<Figure size 432x288 with 1 Axes>"
      ]
     },
     "metadata": {
      "needs_background": "light"
     },
     "output_type": "display_data"
    }
   ],
   "source": [
    "sns.distplot(df['Salary'])\n"
   ]
  },
  {
   "cell_type": "code",
   "execution_count": 10,
   "id": "76dfca35",
   "metadata": {},
   "outputs": [
    {
     "data": {
      "text/plain": [
       "<seaborn.axisgrid.PairGrid at 0x1fd987311f0>"
      ]
     },
     "execution_count": 10,
     "metadata": {},
     "output_type": "execute_result"
    },
    {
     "data": {
      "image/png": "[encoded data removed]",
      "text/plain": [
       "<Figure size 360x360 with 6 Axes>"
      ]
     },
     "metadata": {
      "needs_background": "light"
     },
     "output_type": "display_data"
    }
   ],
   "source": [
    "sns.pairplot(df)"
   ]
  },
  {
   "cell_type": "markdown",
   "id": "09da7597",
   "metadata": {},
   "source": [
    "### Machine Learning"
   ]
  },
  {
   "cell_type": "code",
   "execution_count": 11,
   "id": "7e72893b",
   "metadata": {},
   "outputs": [],
   "source": [
    "X = df[[\"YearsExperience\"]]\n",
    "Y = df[[\"Salary\"]] "
   ]
  },
  {
   "cell_type": "markdown",
   "id": "c704725f",
   "metadata": {},
   "source": [
    "### Dividing the data into training and testing set."
   ]
  },
  {
   "cell_type": "code",
   "execution_count": 12,
   "id": "34ee69ac",
   "metadata": {},
   "outputs": [],
   "source": [
    "from sklearn.model_selection import train_test_split"
   ]
  },
  {
   "cell_type": "code",
   "execution_count": 13,
   "id": "96a14e77",
   "metadata": {},
   "outputs": [],
   "source": [
    "x_train,x_test,y_train,y_test = train_test_split(X, Y, test_size=0.2, random_state=42)"
   ]
  },
  {
   "cell_type": "markdown",
   "id": "b4029781",
   "metadata": {},
   "source": [
    "## Simple Regression Model"
   ]
  },
  {
   "cell_type": "code",
   "execution_count": 14,
   "id": "e80898d7",
   "metadata": {},
   "outputs": [],
   "source": [
    "from sklearn.linear_model import LinearRegression"
   ]
  },
  {
   "cell_type": "code",
   "execution_count": 15,
   "id": "25ac3fba",
   "metadata": {},
   "outputs": [],
   "source": [
    "model = LinearRegression()"
   ]
  },
  {
   "cell_type": "markdown",
   "id": "5fe03d17",
   "metadata": {},
   "source": [
    "Now training the above model with training set data."
   ]
  },
  {
   "cell_type": "code",
   "execution_count": 16,
   "id": "d150f3e2",
   "metadata": {},
   "outputs": [
    {
     "data": {
      "text/plain": [
       "LinearRegression()"
      ]
     },
     "execution_count": 16,
     "metadata": {},
     "output_type": "execute_result"
    }
   ],
   "source": [
    "model.fit(x_train,y_train)"
   ]
  },
  {
   "cell_type": "markdown",
   "id": "89b17787",
   "metadata": {},
   "source": [
    "## Predict the training set."
   ]
  },
  {
   "cell_type": "code",
   "execution_count": 17,
   "id": "7b30d9bf",
   "metadata": {},
   "outputs": [],
   "source": [
    "y_pred  = model.predict(x_test)"
   ]
  },
  {
   "cell_type": "code",
   "execution_count": 18,
   "id": "f47e852e",
   "metadata": {},
   "outputs": [],
   "source": [
    "y_pred = [val[0] for val in y_pred]"
   ]
  },
  {
   "cell_type": "markdown",
   "id": "4d499838",
   "metadata": {},
   "source": [
    "## Compare The Training Set Answers With Predicted Answer"
   ]
  },
  {
   "cell_type": "code",
   "execution_count": 19,
   "id": "dfddc786",
   "metadata": {},
   "outputs": [
    {
     "data": {
      "text/html": [
       "<div>\n",
       "<style scoped>\n",
       "    .dataframe tbody tr th:only-of-type {\n",
       "        vertical-align: middle;\n",
       "    }\n",
       "\n",
       "    .dataframe tbody tr th {\n",
       "        vertical-align: top;\n",
       "    }\n",
       "\n",
       "    .dataframe thead th {\n",
       "        text-align: right;\n",
       "    }\n",
       "</style>\n",
       "<table border=\"1\" class=\"dataframe\">\n",
       "  <thead>\n",
       "    <tr style=\"text-align: right;\">\n",
       "      <th></th>\n",
       "      <th>Actual Answer</th>\n",
       "      <th>Predicted Answer</th>\n",
       "    </tr>\n",
       "  </thead>\n",
       "  <tbody>\n",
       "    <tr>\n",
       "      <th>0</th>\n",
       "      <td>112635.0</td>\n",
       "      <td>115790.210113</td>\n",
       "    </tr>\n",
       "    <tr>\n",
       "      <th>1</th>\n",
       "      <td>67938.0</td>\n",
       "      <td>71498.278095</td>\n",
       "    </tr>\n",
       "    <tr>\n",
       "      <th>2</th>\n",
       "      <td>113812.0</td>\n",
       "      <td>102596.868661</td>\n",
       "    </tr>\n",
       "    <tr>\n",
       "      <th>3</th>\n",
       "      <td>83088.0</td>\n",
       "      <td>75267.804224</td>\n",
       "    </tr>\n",
       "    <tr>\n",
       "      <th>4</th>\n",
       "      <td>64445.0</td>\n",
       "      <td>55477.792045</td>\n",
       "    </tr>\n",
       "    <tr>\n",
       "      <th>5</th>\n",
       "      <td>57189.0</td>\n",
       "      <td>60189.699707</td>\n",
       "    </tr>\n",
       "  </tbody>\n",
       "</table>\n",
       "</div>"
      ],
      "text/plain": [
       "   Actual Answer  Predicted Answer\n",
       "0       112635.0     115790.210113\n",
       "1        67938.0      71498.278095\n",
       "2       113812.0     102596.868661\n",
       "3        83088.0      75267.804224\n",
       "4        64445.0      55477.792045\n",
       "5        57189.0      60189.699707"
      ]
     },
     "execution_count": 19,
     "metadata": {},
     "output_type": "execute_result"
    }
   ],
   "source": [
    "df_pred = pd.DataFrame({'Actual Answer': y_test[\"Salary\"].values, \"Predicted Answer\":y_pred})\n",
    "df_pred"
   ]
  },
  {
   "cell_type": "markdown",
   "id": "fb995340",
   "metadata": {},
   "source": [
    "## Finding The Errors and Efficency of the model"
   ]
  },
  {
   "cell_type": "code",
   "execution_count": 44,
   "id": "18b7ee84",
   "metadata": {},
   "outputs": [
    {
     "name": "stdout",
     "output_type": "stream",
     "text": [
      "Mean Absolute Error: 6286.453830757749\n",
      "Mean Squared Error: 49830096.85590839\n",
      "Root Mean Squared Error: 7059.04362190151\n",
      "R^2 Score :           0.9024461774180497\n"
     ]
    }
   ],
   "source": [
    "print('Mean Absolute Error:', metrics.mean_absolute_error(y_test, y_pred))  \n",
    "print('Mean Squared Error:', metrics.mean_squared_error(y_test, y_pred))  \n",
    "print('Root Mean Squared Error:', np.sqrt(metrics.mean_squared_error(y_test, y_pred)))\n",
    "print(\"R^2 Score :          \", metrics.r2_score(y_test, y_pred))"
   ]
  },
  {
   "cell_type": "markdown",
   "id": "f5fa7991",
   "metadata": {},
   "source": [
    "# Logrithm Transformation"
   ]
  },
  {
   "cell_type": "markdown",
   "id": "47f445ca",
   "metadata": {},
   "source": [
    "y= a+ b* log(x)"
   ]
  },
  {
   "cell_type": "code",
   "execution_count": 23,
   "id": "76573bde",
   "metadata": {},
   "outputs": [],
   "source": [
    "#Input Dataset or Predictor\n",
    "\n",
    "X_log = np.log(df[\"YearsExperience\"].values.reshape(-1,1))\n",
    "\n",
    "#Output Dataset or Target \n",
    "\n",
    "Y_log = df[\"Salary\"].values.reshape(-1,1)"
   ]
  },
  {
   "cell_type": "code",
   "execution_count": 24,
   "id": "d0d304e1",
   "metadata": {},
   "outputs": [],
   "source": [
    "X_train_log, X_test_log, Y_train_log, Y_test_log = train_test_split(X_log, Y_log, test_size=0.2, random_state=42)"
   ]
  },
  {
   "cell_type": "code",
   "execution_count": 25,
   "id": "b0c0202f",
   "metadata": {},
   "outputs": [
    {
     "data": {
      "text/plain": [
       "LinearRegression()"
      ]
     },
     "execution_count": 25,
     "metadata": {},
     "output_type": "execute_result"
    }
   ],
   "source": [
    "y_pred_log = LinearRegression()\n",
    "y_pred_log.fit(X_train_log, Y_train_log)"
   ]
  },
  {
   "cell_type": "code",
   "execution_count": 26,
   "id": "cc0b5e22",
   "metadata": {},
   "outputs": [],
   "source": [
    "Y_pred_log = y_pred_log.predict(X_test_log)\n",
    "Y_pred_log = [val[0] for val in Y_pred_log]"
   ]
  },
  {
   "cell_type": "code",
   "execution_count": 45,
   "id": "842e8288",
   "metadata": {
    "scrolled": true
   },
   "outputs": [
    {
     "data": {
      "text/html": [
       "<div>\n",
       "<style scoped>\n",
       "    .dataframe tbody tr th:only-of-type {\n",
       "        vertical-align: middle;\n",
       "    }\n",
       "\n",
       "    .dataframe tbody tr th {\n",
       "        vertical-align: top;\n",
       "    }\n",
       "\n",
       "    .dataframe thead th {\n",
       "        text-align: right;\n",
       "    }\n",
       "</style>\n",
       "<table border=\"1\" class=\"dataframe\">\n",
       "  <thead>\n",
       "    <tr style=\"text-align: right;\">\n",
       "      <th></th>\n",
       "      <th>Actual</th>\n",
       "      <th>Predict</th>\n",
       "    </tr>\n",
       "  </thead>\n",
       "  <tbody>\n",
       "    <tr>\n",
       "      <th>0</th>\n",
       "      <td>112635.0</td>\n",
       "      <td>105690.620022</td>\n",
       "    </tr>\n",
       "    <tr>\n",
       "      <th>1</th>\n",
       "      <td>67938.0</td>\n",
       "      <td>79261.674857</td>\n",
       "    </tr>\n",
       "    <tr>\n",
       "      <th>2</th>\n",
       "      <td>113812.0</td>\n",
       "      <td>99496.130896</td>\n",
       "    </tr>\n",
       "    <tr>\n",
       "      <th>3</th>\n",
       "      <td>83088.0</td>\n",
       "      <td>82345.445868</td>\n",
       "    </tr>\n",
       "    <tr>\n",
       "      <th>4</th>\n",
       "      <td>64445.0</td>\n",
       "      <td>62517.445762</td>\n",
       "    </tr>\n",
       "    <tr>\n",
       "      <th>5</th>\n",
       "      <td>57189.0</td>\n",
       "      <td>68222.796298</td>\n",
       "    </tr>\n",
       "  </tbody>\n",
       "</table>\n",
       "</div>"
      ],
      "text/plain": [
       "     Actual        Predict\n",
       "0  112635.0  105690.620022\n",
       "1   67938.0   79261.674857\n",
       "2  113812.0   99496.130896\n",
       "3   83088.0   82345.445868\n",
       "4   64445.0   62517.445762\n",
       "5   57189.0   68222.796298"
      ]
     },
     "execution_count": 45,
     "metadata": {},
     "output_type": "execute_result"
    }
   ],
   "source": [
    "df1_pred = pd.DataFrame({\"Actual\": Y_test_log.flatten(), \"Predict\" : Y_pred_log})\n",
    "df1_pred"
   ]
  },
  {
   "cell_type": "code",
   "execution_count": 28,
   "id": "fb316f9b",
   "metadata": {},
   "outputs": [
    {
     "name": "stdout",
     "output_type": "stream",
     "text": [
      "Mean Absolute Error: 7714.638101223965\n",
      "Mean Squared Error: 84567607.74831854\n",
      "Root Mean Squared Error: 9196.064796874723\n",
      "R^2 Score :           0.8344395471211845\n"
     ]
    }
   ],
   "source": [
    "print('Mean Absolute Error:', metrics.mean_absolute_error(Y_test_log, Y_pred_log))  \n",
    "print('Mean Squared Error:', metrics.mean_squared_error(Y_test_log, Y_pred_log) ) \n",
    "print('Root Mean Squared Error:', np.sqrt(metrics.mean_squared_error(Y_test_log, Y_pred_log)))\n",
    "print(\"R^2 Score :          \", metrics.r2_score(Y_test_log, Y_pred_log))"
   ]
  },
  {
   "cell_type": "markdown",
   "id": "da2e913b",
   "metadata": {},
   "source": [
    "# Exponential Transformation Model"
   ]
  },
  {
   "cell_type": "markdown",
   "id": "fdc25f79",
   "metadata": {},
   "source": [
    "log(Y) =α + βX + ε"
   ]
  },
  {
   "cell_type": "code",
   "execution_count": 30,
   "id": "da1659e4",
   "metadata": {},
   "outputs": [],
   "source": [
    "#Input Dataset or Predictor\n",
    "\n",
    "X_e_log = df[\"YearsExperience\"].values.reshape(-1,1)\n",
    "\n",
    "#Output Dataset or Target \n",
    "\n",
    "Y_e_log = np.log(df[\"Salary\"].values.reshape(-1,1))"
   ]
  },
  {
   "cell_type": "code",
   "execution_count": 32,
   "id": "6c991c14",
   "metadata": {},
   "outputs": [],
   "source": [
    "X_train_exp, X_test_exp, Y_train_exp, Y_test_exp = train_test_split(X_e_log, Y_e_log, test_size=0.2, random_state= 42)"
   ]
  },
  {
   "cell_type": "code",
   "execution_count": 33,
   "id": "068912dc",
   "metadata": {},
   "outputs": [
    {
     "data": {
      "text/plain": [
       "LinearRegression()"
      ]
     },
     "execution_count": 33,
     "metadata": {},
     "output_type": "execute_result"
    }
   ],
   "source": [
    "y_pred_e_log = LinearRegression()\n",
    "y_pred_e_log.fit(X_train_exp, Y_train_exp)"
   ]
  },
  {
   "cell_type": "code",
   "execution_count": 34,
   "id": "1bd4c42a",
   "metadata": {},
   "outputs": [],
   "source": [
    "Y_pred_e_log = y_pred_e_log.predict(X_test_log)\n",
    "Y_pred_e_log = [val[0] for val in Y_pred_e_log]"
   ]
  },
  {
   "cell_type": "code",
   "execution_count": 35,
   "id": "20445aa0",
   "metadata": {},
   "outputs": [
    {
     "data": {
      "text/html": [
       "<div>\n",
       "<style scoped>\n",
       "    .dataframe tbody tr th:only-of-type {\n",
       "        vertical-align: middle;\n",
       "    }\n",
       "\n",
       "    .dataframe tbody tr th {\n",
       "        vertical-align: top;\n",
       "    }\n",
       "\n",
       "    .dataframe thead th {\n",
       "        text-align: right;\n",
       "    }\n",
       "</style>\n",
       "<table border=\"1\" class=\"dataframe\">\n",
       "  <thead>\n",
       "    <tr style=\"text-align: right;\">\n",
       "      <th></th>\n",
       "      <th>Actual</th>\n",
       "      <th>Predict</th>\n",
       "    </tr>\n",
       "  </thead>\n",
       "  <tbody>\n",
       "    <tr>\n",
       "      <th>0</th>\n",
       "      <td>112635.0</td>\n",
       "      <td>10.772601</td>\n",
       "    </tr>\n",
       "    <tr>\n",
       "      <th>1</th>\n",
       "      <td>67938.0</td>\n",
       "      <td>10.687158</td>\n",
       "    </tr>\n",
       "    <tr>\n",
       "      <th>2</th>\n",
       "      <td>113812.0</td>\n",
       "      <td>10.752574</td>\n",
       "    </tr>\n",
       "    <tr>\n",
       "      <th>3</th>\n",
       "      <td>83088.0</td>\n",
       "      <td>10.697128</td>\n",
       "    </tr>\n",
       "    <tr>\n",
       "      <th>4</th>\n",
       "      <td>64445.0</td>\n",
       "      <td>10.633025</td>\n",
       "    </tr>\n",
       "    <tr>\n",
       "      <th>5</th>\n",
       "      <td>57189.0</td>\n",
       "      <td>10.651470</td>\n",
       "    </tr>\n",
       "  </tbody>\n",
       "</table>\n",
       "</div>"
      ],
      "text/plain": [
       "     Actual    Predict\n",
       "0  112635.0  10.772601\n",
       "1   67938.0  10.687158\n",
       "2  113812.0  10.752574\n",
       "3   83088.0  10.697128\n",
       "4   64445.0  10.633025\n",
       "5   57189.0  10.651470"
      ]
     },
     "execution_count": 35,
     "metadata": {},
     "output_type": "execute_result"
    }
   ],
   "source": [
    "df1_pred = pd.DataFrame({\"Actual\": Y_test_log.flatten(), \"Predict\" : Y_pred_e_log})\n",
    "df1_pred"
   ]
  },
  {
   "cell_type": "code",
   "execution_count": 36,
   "id": "3926173d",
   "metadata": {},
   "outputs": [
    {
     "name": "stdout",
     "output_type": "stream",
     "text": [
      "Mean Absolute Error: 83173.8010073424\n",
      "Mean Squared Error: 7428674963.914866\n",
      "Root Mean Squared Error: 86189.7613636032\n",
      "R^2 Score :           -13.543331945436488\n"
     ]
    }
   ],
   "source": [
    "print('Mean Absolute Error:', metrics.mean_absolute_error(Y_test_log, Y_pred_e_log))  \n",
    "print('Mean Squared Error:', metrics.mean_squared_error(Y_test_log, Y_pred_e_log) ) \n",
    "print('Root Mean Squared Error:', np.sqrt(metrics.mean_squared_error(Y_test_log, Y_pred_e_log)))\n",
    "print(\"R^2 Score :          \", metrics.r2_score(Y_test_log, Y_pred_e_log))"
   ]
  },
  {
   "cell_type": "markdown",
   "id": "100a07e0",
   "metadata": {},
   "source": [
    "## Quadratic Transformation Model"
   ]
  },
  {
   "cell_type": "code",
   "execution_count": 37,
   "id": "368b156e",
   "metadata": {
    "scrolled": true
   },
   "outputs": [
    {
     "data": {
      "text/html": [
       "<div>\n",
       "<style scoped>\n",
       "    .dataframe tbody tr th:only-of-type {\n",
       "        vertical-align: middle;\n",
       "    }\n",
       "\n",
       "    .dataframe tbody tr th {\n",
       "        vertical-align: top;\n",
       "    }\n",
       "\n",
       "    .dataframe thead th {\n",
       "        text-align: right;\n",
       "    }\n",
       "</style>\n",
       "<table border=\"1\" class=\"dataframe\">\n",
       "  <thead>\n",
       "    <tr style=\"text-align: right;\">\n",
       "      <th></th>\n",
       "      <th>YearsExperience</th>\n",
       "      <th>Salary</th>\n",
       "      <th>Sqr_YearsExp</th>\n",
       "    </tr>\n",
       "  </thead>\n",
       "  <tbody>\n",
       "    <tr>\n",
       "      <th>0</th>\n",
       "      <td>1.1</td>\n",
       "      <td>39343.0</td>\n",
       "      <td>1.21</td>\n",
       "    </tr>\n",
       "    <tr>\n",
       "      <th>1</th>\n",
       "      <td>1.3</td>\n",
       "      <td>46205.0</td>\n",
       "      <td>1.69</td>\n",
       "    </tr>\n",
       "    <tr>\n",
       "      <th>2</th>\n",
       "      <td>1.5</td>\n",
       "      <td>37731.0</td>\n",
       "      <td>2.25</td>\n",
       "    </tr>\n",
       "    <tr>\n",
       "      <th>3</th>\n",
       "      <td>2.0</td>\n",
       "      <td>43525.0</td>\n",
       "      <td>4.00</td>\n",
       "    </tr>\n",
       "    <tr>\n",
       "      <th>4</th>\n",
       "      <td>2.2</td>\n",
       "      <td>39891.0</td>\n",
       "      <td>4.84</td>\n",
       "    </tr>\n",
       "    <tr>\n",
       "      <th>5</th>\n",
       "      <td>2.9</td>\n",
       "      <td>56642.0</td>\n",
       "      <td>8.41</td>\n",
       "    </tr>\n",
       "    <tr>\n",
       "      <th>6</th>\n",
       "      <td>3.0</td>\n",
       "      <td>60150.0</td>\n",
       "      <td>9.00</td>\n",
       "    </tr>\n",
       "    <tr>\n",
       "      <th>7</th>\n",
       "      <td>3.2</td>\n",
       "      <td>54445.0</td>\n",
       "      <td>10.24</td>\n",
       "    </tr>\n",
       "    <tr>\n",
       "      <th>8</th>\n",
       "      <td>3.2</td>\n",
       "      <td>64445.0</td>\n",
       "      <td>10.24</td>\n",
       "    </tr>\n",
       "    <tr>\n",
       "      <th>9</th>\n",
       "      <td>3.7</td>\n",
       "      <td>57189.0</td>\n",
       "      <td>13.69</td>\n",
       "    </tr>\n",
       "    <tr>\n",
       "      <th>10</th>\n",
       "      <td>3.9</td>\n",
       "      <td>63218.0</td>\n",
       "      <td>15.21</td>\n",
       "    </tr>\n",
       "    <tr>\n",
       "      <th>11</th>\n",
       "      <td>4.0</td>\n",
       "      <td>55794.0</td>\n",
       "      <td>16.00</td>\n",
       "    </tr>\n",
       "    <tr>\n",
       "      <th>12</th>\n",
       "      <td>4.0</td>\n",
       "      <td>56957.0</td>\n",
       "      <td>16.00</td>\n",
       "    </tr>\n",
       "    <tr>\n",
       "      <th>13</th>\n",
       "      <td>4.1</td>\n",
       "      <td>57081.0</td>\n",
       "      <td>16.81</td>\n",
       "    </tr>\n",
       "    <tr>\n",
       "      <th>14</th>\n",
       "      <td>4.5</td>\n",
       "      <td>61111.0</td>\n",
       "      <td>20.25</td>\n",
       "    </tr>\n",
       "    <tr>\n",
       "      <th>15</th>\n",
       "      <td>4.9</td>\n",
       "      <td>67938.0</td>\n",
       "      <td>24.01</td>\n",
       "    </tr>\n",
       "    <tr>\n",
       "      <th>16</th>\n",
       "      <td>5.1</td>\n",
       "      <td>66029.0</td>\n",
       "      <td>26.01</td>\n",
       "    </tr>\n",
       "    <tr>\n",
       "      <th>17</th>\n",
       "      <td>5.3</td>\n",
       "      <td>83088.0</td>\n",
       "      <td>28.09</td>\n",
       "    </tr>\n",
       "    <tr>\n",
       "      <th>18</th>\n",
       "      <td>5.9</td>\n",
       "      <td>81363.0</td>\n",
       "      <td>34.81</td>\n",
       "    </tr>\n",
       "    <tr>\n",
       "      <th>19</th>\n",
       "      <td>6.0</td>\n",
       "      <td>93940.0</td>\n",
       "      <td>36.00</td>\n",
       "    </tr>\n",
       "    <tr>\n",
       "      <th>20</th>\n",
       "      <td>6.8</td>\n",
       "      <td>91738.0</td>\n",
       "      <td>46.24</td>\n",
       "    </tr>\n",
       "    <tr>\n",
       "      <th>21</th>\n",
       "      <td>7.1</td>\n",
       "      <td>98273.0</td>\n",
       "      <td>50.41</td>\n",
       "    </tr>\n",
       "    <tr>\n",
       "      <th>22</th>\n",
       "      <td>7.9</td>\n",
       "      <td>101302.0</td>\n",
       "      <td>62.41</td>\n",
       "    </tr>\n",
       "    <tr>\n",
       "      <th>23</th>\n",
       "      <td>8.2</td>\n",
       "      <td>113812.0</td>\n",
       "      <td>67.24</td>\n",
       "    </tr>\n",
       "    <tr>\n",
       "      <th>24</th>\n",
       "      <td>8.7</td>\n",
       "      <td>109431.0</td>\n",
       "      <td>75.69</td>\n",
       "    </tr>\n",
       "    <tr>\n",
       "      <th>25</th>\n",
       "      <td>9.0</td>\n",
       "      <td>105582.0</td>\n",
       "      <td>81.00</td>\n",
       "    </tr>\n",
       "    <tr>\n",
       "      <th>26</th>\n",
       "      <td>9.5</td>\n",
       "      <td>116969.0</td>\n",
       "      <td>90.25</td>\n",
       "    </tr>\n",
       "    <tr>\n",
       "      <th>27</th>\n",
       "      <td>9.6</td>\n",
       "      <td>112635.0</td>\n",
       "      <td>92.16</td>\n",
       "    </tr>\n",
       "    <tr>\n",
       "      <th>28</th>\n",
       "      <td>10.3</td>\n",
       "      <td>122391.0</td>\n",
       "      <td>106.09</td>\n",
       "    </tr>\n",
       "    <tr>\n",
       "      <th>29</th>\n",
       "      <td>10.5</td>\n",
       "      <td>121872.0</td>\n",
       "      <td>110.25</td>\n",
       "    </tr>\n",
       "  </tbody>\n",
       "</table>\n",
       "</div>"
      ],
      "text/plain": [
       "    YearsExperience    Salary  Sqr_YearsExp\n",
       "0               1.1   39343.0          1.21\n",
       "1               1.3   46205.0          1.69\n",
       "2               1.5   37731.0          2.25\n",
       "3               2.0   43525.0          4.00\n",
       "4               2.2   39891.0          4.84\n",
       "5               2.9   56642.0          8.41\n",
       "6               3.0   60150.0          9.00\n",
       "7               3.2   54445.0         10.24\n",
       "8               3.2   64445.0         10.24\n",
       "9               3.7   57189.0         13.69\n",
       "10              3.9   63218.0         15.21\n",
       "11              4.0   55794.0         16.00\n",
       "12              4.0   56957.0         16.00\n",
       "13              4.1   57081.0         16.81\n",
       "14              4.5   61111.0         20.25\n",
       "15              4.9   67938.0         24.01\n",
       "16              5.1   66029.0         26.01\n",
       "17              5.3   83088.0         28.09\n",
       "18              5.9   81363.0         34.81\n",
       "19              6.0   93940.0         36.00\n",
       "20              6.8   91738.0         46.24\n",
       "21              7.1   98273.0         50.41\n",
       "22              7.9  101302.0         62.41\n",
       "23              8.2  113812.0         67.24\n",
       "24              8.7  109431.0         75.69\n",
       "25              9.0  105582.0         81.00\n",
       "26              9.5  116969.0         90.25\n",
       "27              9.6  112635.0         92.16\n",
       "28             10.3  122391.0        106.09\n",
       "29             10.5  121872.0        110.25"
      ]
     },
     "execution_count": 37,
     "metadata": {},
     "output_type": "execute_result"
    }
   ],
   "source": [
    "df[\"Sqr_YearsExp\"] = df.apply(lambda row : row.YearsExperience**2, axis = 1)\n",
    "df"
   ]
  },
  {
   "cell_type": "code",
   "execution_count": 38,
   "id": "98cb36d1",
   "metadata": {},
   "outputs": [
    {
     "name": "stdout",
     "output_type": "stream",
     "text": [
      "27    112635.0\n",
      "15     67938.0\n",
      "23    113812.0\n",
      "17     83088.0\n",
      "8      64445.0\n",
      "9      57189.0\n",
      "Name: Salary, dtype: float64\n"
     ]
    }
   ],
   "source": [
    "X_q = df.iloc[:,df.columns != 'YearsExperience']\n",
    "Y_q = df.iloc[:,1]\n",
    "X_train, X_test, Y_train, Y_test = train_test_split(X_q, Y_q, test_size=0.2, random_state= 42)\n",
    "print(Y_test)\n"
   ]
  },
  {
   "cell_type": "code",
   "execution_count": 39,
   "id": "37de3a9b",
   "metadata": {},
   "outputs": [
    {
     "data": {
      "text/plain": [
       "LinearRegression()"
      ]
     },
     "execution_count": 39,
     "metadata": {},
     "output_type": "execute_result"
    }
   ],
   "source": [
    "model = LinearRegression()\n",
    "model.fit(X_train, Y_train)"
   ]
  },
  {
   "cell_type": "code",
   "execution_count": 40,
   "id": "b4d438cf",
   "metadata": {},
   "outputs": [
    {
     "data": {
      "text/plain": [
       "array([112635.,  67938., 113812.,  83088.,  64445.,  57189.])"
      ]
     },
     "execution_count": 40,
     "metadata": {},
     "output_type": "execute_result"
    }
   ],
   "source": [
    "y_pred_q = model.predict(X_test)\n",
    "y_pred_"
   ]
  },
  {
   "cell_type": "code",
   "execution_count": 42,
   "id": "6177ad0b",
   "metadata": {},
   "outputs": [
    {
     "data": {
      "text/html": [
       "<div>\n",
       "<style scoped>\n",
       "    .dataframe tbody tr th:only-of-type {\n",
       "        vertical-align: middle;\n",
       "    }\n",
       "\n",
       "    .dataframe tbody tr th {\n",
       "        vertical-align: top;\n",
       "    }\n",
       "\n",
       "    .dataframe thead th {\n",
       "        text-align: right;\n",
       "    }\n",
       "</style>\n",
       "<table border=\"1\" class=\"dataframe\">\n",
       "  <thead>\n",
       "    <tr style=\"text-align: right;\">\n",
       "      <th></th>\n",
       "      <th>Actual</th>\n",
       "      <th>Predicted</th>\n",
       "    </tr>\n",
       "  </thead>\n",
       "  <tbody>\n",
       "    <tr>\n",
       "      <th>27</th>\n",
       "      <td>112635.0</td>\n",
       "      <td>112635.0</td>\n",
       "    </tr>\n",
       "    <tr>\n",
       "      <th>15</th>\n",
       "      <td>67938.0</td>\n",
       "      <td>67938.0</td>\n",
       "    </tr>\n",
       "    <tr>\n",
       "      <th>23</th>\n",
       "      <td>113812.0</td>\n",
       "      <td>113812.0</td>\n",
       "    </tr>\n",
       "    <tr>\n",
       "      <th>17</th>\n",
       "      <td>83088.0</td>\n",
       "      <td>83088.0</td>\n",
       "    </tr>\n",
       "    <tr>\n",
       "      <th>8</th>\n",
       "      <td>64445.0</td>\n",
       "      <td>64445.0</td>\n",
       "    </tr>\n",
       "  </tbody>\n",
       "</table>\n",
       "</div>"
      ],
      "text/plain": [
       "      Actual  Predicted\n",
       "27  112635.0   112635.0\n",
       "15   67938.0    67938.0\n",
       "23  113812.0   113812.0\n",
       "17   83088.0    83088.0\n",
       "8    64445.0    64445.0"
      ]
     },
     "execution_count": 42,
     "metadata": {},
     "output_type": "execute_result"
    }
   ],
   "source": [
    "df_qm = pd.DataFrame({'Actual':Y_test, 'Predicted': y_pred_q})\n",
    "df_qm.head()"
   ]
  },
  {
   "cell_type": "code",
   "execution_count": 43,
   "id": "ff9ec886",
   "metadata": {},
   "outputs": [
    {
     "name": "stdout",
     "output_type": "stream",
     "text": [
      "Mean Absolute Error: 1.2126596023639044e-11\n",
      "Mean Squared Error: 1.7646519734464591e-22\n",
      "Root Mean Squared Error: 1.328402037579911e-11\n",
      "R^2 Score :           1.0\n"
     ]
    }
   ],
   "source": [
    "print('Mean Absolute Error:', metrics.mean_absolute_error(Y_test, y_pred_q))  \n",
    "print('Mean Squared Error:', metrics.mean_squared_error(Y_test, y_pred_q) ) \n",
    "print('Root Mean Squared Error:', np.sqrt(metrics.mean_squared_error(Y_test, y_pred_q)))\n",
    "print(\"R^2 Score :          \", metrics.r2_score(Y_test, y_pred_q))"
   ]
  },
  {
   "cell_type": "markdown",
   "id": "c520374a",
   "metadata": {},
   "source": [
    "# Conclusion"
   ]
  },
  {
   "cell_type": "markdown",
   "id": "fd12e2f3",
   "metadata": {},
   "source": [
    "We have found that while transform the model, got various values for MAE, RMSE, MSE and R2\n",
    " Values. Summery of the following Models\n",
    "\n"
   ]
  },
  {
   "cell_type": "raw",
   "id": "730d6d2a",
   "metadata": {},
   "source": [
    "1) Simple linear Regression Model\n",
    "\n",
    "Mean Absolute Error: 6286.453830757749\n",
    "Mean Squared Error: 49830096.85590839\n",
    "Root Mean Squared Error: 7059.04362190151\n",
    "R^2 Score :           0.9024461774180497\n",
    "    \n",
    "2) Logrithm Transformation Model\n",
    "\n",
    "Mean Absolute Error: 7714.638101223965\n",
    "Mean Squared Error: 84567607.74831854\n",
    "Root Mean Squared Error: 9196.064796874723\n",
    "R^2 Score :           0.8344395471211845\n",
    "    \n",
    "3) Exponential Transformation Model\n",
    "\n",
    "Mean Absolute Error: 83173.8010073424\n",
    "Mean Squared Error: 7428674963.914866\n",
    "Root Mean Squared Error: 86189.7613636032\n",
    "R^2 Score :           -13.543331945436488\n",
    "    \n",
    "4) Quadratic Transformation Model\n",
    "\n",
    "Mean Absolute Error: 1.2126596023639044e-11\n",
    "Mean Squared Error: 1.7646519734464591e-22\n",
    "Root Mean Squared Error: 1.328402037579911e-11\n",
    "R^2 Score :           1.0"
   ]
  },
  {
   "cell_type": "code",
   "execution_count": null,
   "id": "fabf99a2",
   "metadata": {},
   "outputs": [],
   "source": []
  }
 ],
 "metadata": {
  "kernelspec": {
   "display_name": "Python 3",
   "language": "python",
   "name": "python3"
  },
  "language_info": {
   "codemirror_mode": {
    "name": "ipython",
    "version": 3
   },
   "file_extension": ".py",
   "mimetype": "text/x-python",
   "name": "python",
   "nbconvert_exporter": "python",
   "pygments_lexer": "ipython3",
   "version": "3.8.8"
  }
 },
 "nbformat": 4,
 "nbformat_minor": 5
}
